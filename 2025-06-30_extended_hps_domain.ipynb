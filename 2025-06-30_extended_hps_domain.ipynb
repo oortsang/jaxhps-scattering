{
 "cells": [
  {
   "cell_type": "markdown",
   "id": "796f42ca-ae81-4cb3-9176-62a06c3d91d0",
   "metadata": {},
   "source": [
    "# Extended HPS domain\n",
    "I found that nudging a gaussian bump close to the boundary of the domain can significantly degrade the quality of the HPS's solution, both in the near- and far-field cases. So, I think it would be a good idea to allow for a larger computational domain for HPS to run on compared with the uniform grid from the input."
   ]
  },
  {
   "cell_type": "code",
   "execution_count": null,
   "id": "d2525854-f0d1-403a-9e50-3e4285a33501",
   "metadata": {},
   "outputs": [],
   "source": []
  },
  {
   "cell_type": "code",
   "execution_count": null,
   "id": "a40d48e8-5949-4672-b51f-b398a70d38c6",
   "metadata": {},
   "outputs": [],
   "source": []
  },
  {
   "cell_type": "code",
   "execution_count": null,
   "id": "d7d638d6-aa85-460d-bb40-265edabcc805",
   "metadata": {},
   "outputs": [],
   "source": []
  },
  {
   "cell_type": "code",
   "execution_count": null,
   "id": "8b2cb788-8d54-456f-a596-b1d5cfb0dd0d",
   "metadata": {},
   "outputs": [],
   "source": []
  },
  {
   "cell_type": "code",
   "execution_count": null,
   "id": "0437a057-625f-407a-b8a2-66ccb6e938cd",
   "metadata": {},
   "outputs": [],
   "source": []
  }
 ],
 "metadata": {
  "kernelspec": {
   "display_name": "jaxhps-env",
   "language": "python",
   "name": "jaxhps-env"
  },
  "language_info": {
   "codemirror_mode": {
    "name": "ipython",
    "version": 3
   },
   "file_extension": ".py",
   "mimetype": "text/x-python",
   "name": "python",
   "nbconvert_exporter": "python",
   "pygments_lexer": "ipython3",
   "version": "3.10.8"
  }
 },
 "nbformat": 4,
 "nbformat_minor": 5
}
