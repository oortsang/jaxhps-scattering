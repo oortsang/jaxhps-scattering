{
 "cells": [
  {
   "cell_type": "markdown",
   "id": "c1388c54-4795-4310-9457-c1dd5e5bea88",
   "metadata": {},
   "source": [
    "# Interpolation in a cleaned-up notebook"
   ]
  },
  {
   "cell_type": "code",
   "execution_count": 1,
   "id": "f5fb1ef5-af52-4b6e-b35f-8a6339ed641d",
   "metadata": {},
   "outputs": [
    {
     "name": "stderr",
     "output_type": "stream",
     "text": [
      "2025-06-26 14:06:22.205:jaxhps: DEBUG - Creating converter from 7 to 5\n",
      "2025-06-26 14:06:22.206:jaxhps: DEBUG - Creating converter from 5 to 7\n",
      "2025-06-26 14:06:22.206:jaxhps: DEBUG - Creating converter from 7 to 5\n",
      "2025-06-26 14:06:22.207:jaxhps: DEBUG - Creating converter from 5 to 7\n"
     ]
    }
   ],
   "source": [
    "import os\n",
    "import jax\n",
    "import jax.numpy as jnp\n",
    "from scipy.io import savemat\n",
    "import matplotlib.pyplot as plt\n",
    "\n",
    "from timeit import default_timer\n",
    "import logging\n",
    "logging.basicConfig(\n",
    "    format=\"%(asctime)s.%(msecs)03d:jaxhps: %(levelname)s - %(message)s\",\n",
    "    datefmt=\"%Y-%m-%d %H:%M:%S\",\n",
    "    level=logging.DEBUG\n",
    ")\n",
    "\n",
    "from examples.wave_scattering_utils import (\n",
    "    solve_scattering_problem,\n",
    "    load_SD_matrices,\n",
    "    get_uin,\n",
    ")\n",
    "from examples.scattering_potentials import (\n",
    "    q_gaussian_bumps,\n",
    ")\n",
    "from examples.plotting_utils import plot_field_for_wave_scattering_experiment\n",
    "\n",
    "jax.config.update(\"jax_default_device\", jax.devices(\"gpu\")[0])\n",
    "jax.config.update(\"jax_enable_x64\", True)"
   ]
  },
  {
   "cell_type": "code",
   "execution_count": 2,
   "id": "2be0a9b5-1ab8-4e32-99f5-188194433523",
   "metadata": {},
   "outputs": [],
   "source": [
    "from jaxhps import (\n",
    "    DiscretizationNode2D,\n",
    "    Domain,\n",
    "    PDEProblem,\n",
    "    upward_pass_subtree,\n",
    "    downward_pass_subtree,\n",
    "    local_solve_chunksize_2D,\n",
    ")\n",
    "from jaxhps.local_solve import local_solve_stage_uniform_2D_ItI\n",
    "from jaxhps.merge import merge_stage_uniform_2D_ItI\n",
    "from jaxhps.down_pass import down_pass_uniform_2D_ItI\n",
    "from examples.wave_scattering_utils import (\n",
    "    get_DtN_from_ItI,\n",
    "    setup_scattering_lin_system,\n",
    "    get_uin_and_normals,\n",
    "    get_uin,\n",
    "    get_scattering_uscat_impedance,\n",
    ")\n",
    "from src.jaxhps import (\n",
    "    Domain as MyDomain,\n",
    "    DiscretizationNode2D as MyDiscretizationNode2D\n",
    ")\n",
    "from jaxhps._grid_creation_2D import (\n",
    "    rearrange_indices_ext_int as rearrange_indices_ext_int_2D,\n",
    ")\n",
    "from jaxhps.quadrature import (\n",
    "    barycentric_lagrange_interpolation_matrix_1D,\n",
    "    barycentric_lagrange_interpolation_matrix_2D,\n",
    "    chebyshev_points,\n",
    ")\n",
    "\n",
    "from rlc_repo_link.src.data.data_transformations import (\n",
    "    prep_conv_interp_2d,\n",
    "    apply_interp_2d,\n",
    "    # Maybe I could leverage the separability to use the 1d operators?\n",
    "    prep_conv_interp_1d,\n",
    "    apply_interp_1d,\n",
    ")\n",
    "\n",
    "INTERP_BATCH_SIZE = 20"
   ]
  },
  {
   "cell_type": "markdown",
   "id": "976a2194-6989-47d8-86ad-031efb9a65a9",
   "metadata": {},
   "source": [
    "## Functions"
   ]
  },
  {
   "cell_type": "code",
   "execution_count": 3,
   "id": "7726da43-2ea9-4ec7-82a6-b4f38b4aa103",
   "metadata": {},
   "outputs": [],
   "source": [
    "def reorder_leaves_indices(L: int, s: int = 1, new_order: tuple=(3,2,0,1)):\n",
    "    \"\"\"This function prepares the indices needed to recursively perform the \n",
    "    reordering operation as described below:\n",
    "\n",
    "    Suppose the inputs have children in labeled as [0,1,2,3]\n",
    "        +-----+-----+-----+-----+\n",
    "        |  0  |  1  |  2  |  3  |\n",
    "        +-----+-----+-----+-----+\n",
    "    This function will re-order the children within the flattened structure.\n",
    "    For example, setting new_order=(3,2,0,1) would result in\n",
    "        +-----+-----+-----+-----+\n",
    "        |  3  |  2  |  0  |  1  |\n",
    "        +-----+-----+-----+-----+\n",
    "    which, in the quadtree, corresponds to an spatial organization of\n",
    "        +-----+-----+\n",
    "        |  3  |  2  |\n",
    "        +-----+-----+\n",
    "        |  0  |  1  |\n",
    "        +-----+-----+\n",
    "    in terms of the input.\n",
    "    Note: this function can be used to put the quadtree into Morton or Z order, but this\n",
    "    is different from row-major order, as far as the blocks are concerned.\n",
    "\n",
    "    Parameters:\n",
    "        L (int): number of levels in the quadtree\n",
    "        s (int): number of entries per leaf in the quadtree\n",
    "        new_order (tuple of ints): new relative ordering of the leaves\n",
    "    Output:\n",
    "        idcs (jax.array): re-ordered leaf index map with shape (4**L * s**2,)\n",
    "            Can be used as jax.take(leaf_data, idcs, axis=<relevant axis>)\n",
    "    \"\"\"\n",
    "    idcs = jnp.arange(4**L * s)\n",
    "    new_order_array = jnp.array(new_order)\n",
    "    for l in range(0, L):\n",
    "        idcs = idcs.reshape(4**l, 4, 4**(L-l-1))\n",
    "        idcs = jnp.take(idcs, new_order_array, axis=1)\n",
    "    return idcs\n",
    "\n",
    "def morton_to_flatten_indices(L: int, s: int, return_flat=True):\n",
    "    \"\"\"Converts the indices for morton ordering into a flattened structure\n",
    "    Largely lifted from Matt Li's code; for my purposes s=1 seems sufficient\n",
    "    \"\"\"\n",
    "    if L==0:\n",
    "        res = jnp.arange(s**2).reshape(s,s) # no re-ordering necessary\n",
    "    else:\n",
    "        bsize = 4**(L-1) * s**2 # block size\n",
    "        tmp = morton_to_flatten_indices(L-1, s, return_flat=False) # recurrence\n",
    "        res = jnp.block([[tmp, tmp+bsize], [tmp+2*bsize, tmp+3*bsize]])\n",
    "    return res.flatten() if return_flat else res\n",
    "\n",
    "def prep_quadtree_to_unrolled_indices(L: int, s=1, new_order=(0,1,3,2)):\n",
    "    \"\"\"Prepares the indices needed to go from the quadtree ordering of\n",
    "        +-----+-----+\n",
    "        |  0  |  1  |\n",
    "        +-----+-----+\n",
    "        |  3  |  2  |\n",
    "        +-----+-----+\n",
    "    to an unrolled ordering based on the spatial layout:\n",
    "        [[0 1 2   ... 2^L-1]\n",
    "         [1+2^L   ...      ]\n",
    "         [        ...      ]\n",
    "         [4^L-2^L ... 4^L-1]\n",
    "    Parameters:\n",
    "        L (int): number of levels in the quadtree\n",
    "        s (int): number of elements per level in the quadtree\n",
    "        new_order (tuple): the new ordering of the blocks\n",
    "            default:   (0,1,3,2)\n",
    "            alternate: (3,2,0,1) (depends on the desired first-axis ordering)\n",
    "    \"\"\"\n",
    "    quadtree_to_morton   = reorder_leaves_indices(L, s, new_order=new_order)\n",
    "    morton_to_unrolled   = morton_to_flatten_indices(L, s)\n",
    "    quadtree_to_unrolled = jnp.take(quadtree_to_morton, morton_to_unrolled)\n",
    "    return quadtree_to_unrolled\n",
    "\n",
    "def apply_quadtree_to_unrolled_indices(data: jax.Array, quadtree_to_unrolled: jax.Array, axis=0):\n",
    "    \"\"\"Super basic function to apply the indices, mostly for a reminder of the usage\"\"\"\n",
    "    return jnp.take(data, quadtree_to_unrolled, axis=axis)"
   ]
  },
  {
   "cell_type": "code",
   "execution_count": 4,
   "id": "013d0b97-56dd-47b3-bd0f-9cfa34d98157",
   "metadata": {},
   "outputs": [],
   "source": [
    "# Quadtree (Chebyshev) -> Uniform\n",
    "class QuadtreeToUniform:\n",
    "    \"\"\"Class to interpolate data from quadtree form with chebyshev-grid leaves\n",
    "    to a contiguous form on a uniform grid.\n",
    "    Simplifying assumptions:\n",
    "    1. Assume each leaf contains an integer number of points from the uniform grid,\n",
    "    and that these points are always in the same positions relative to the leaf boxes\n",
    "    2. Assume that the domain size does not change\n",
    "    \"\"\"\n",
    "    def __init__(self, L: int, p: int, n_per_leaf: int, cell_offset: float = 0):\n",
    "        \"\"\"Set up the reusable objects\n",
    "        Parameters:\n",
    "            L (int): number of levels in the tree\n",
    "            p (int): polynomial order of the leaf-level chebyshev grids \n",
    "            n_per_leaf (int): number of points in the uniform grid per leaf\n",
    "            cell_offset (float): relative offset of where to sample the uniform grid\n",
    "                If a leaf's chebyshev grid is sampled on the interval [-1, 1],\n",
    "                the cell_offset values correspond to the following behavior:\n",
    "                0:   default behavior, sample at    [0, 1, 2, ..., n_per_leaf-1]*2/n_per_leaf-1\n",
    "                0.5: cell-centered, sample at       [0.5, 1.5, 2.5, ..., n_per_leaf-0.5]*2/n_per_leaf-1\n",
    "                1:   sample on the opposite end, at [1, 2, ..., n_per_leaf]*2/n_per_leaf-1\n",
    "        \"\"\"\n",
    "        self.L = L\n",
    "        self.p = p\n",
    "        self.n_per_leaf = n_per_leaf\n",
    "\n",
    "        self.quadtree_to_unrolled_idcs = prep_quadtree_to_unrolled_indices(L)\n",
    "        self.leaf_cheb_x = chebyshev_points(p)\n",
    "        self.leaf_cheb_y = chebyshev_points(p)[::-1]\n",
    "\n",
    "        self.cell_offset = cell_offset\n",
    "        leaf_offset = cell_offset * 0.5/n_per_leaf\n",
    "        self.leaf_unif_x = leaf_offset+jnp.linspace(-1, 1, n_per_leaf, endpoint=False)\n",
    "        self.leaf_unif_y = leaf_offset+jnp.linspace(-1, 1, n_per_leaf, endpoint=False) # [::-1]\n",
    "\n",
    "        tmp_interp_leaf_cheb_to_unif = barycentric_lagrange_interpolation_matrix_2D(\n",
    "            from_pts_x=self.leaf_cheb_x,\n",
    "            from_pts_y=self.leaf_cheb_y,\n",
    "            to_pts_x=self.leaf_unif_x,\n",
    "            to_pts_y=self.leaf_unif_y,\n",
    "        )\n",
    "        self.rearrange_leaf_idcs = rearrange_indices_ext_int_2D(p)\n",
    "        self.interp_leaf_cheb_to_unif = tmp_interp_leaf_cheb_to_unif[:, self.rearrange_leaf_idcs]\n",
    "\n",
    "    def apply(self, data_quadtree_cheb: jax.Array) -> jax.Array:\n",
    "        \"\"\"Applies the quadtree chebyshev-to-uniform operation\n",
    "        Parameters:\n",
    "            data_quadtree_cheb (jax.Array, shape: (4**L, p**2, ...)):\n",
    "                Data from the HPS quadtree, sampled on Chebyshev grids at the leaf level\n",
    "        Output:\n",
    "            data_unif (jax.Array, shape (2**L * n_per_leaf, 2**L * n_per_leaf), ...):\n",
    "                Data on the uniform grid without the quadtree structure\n",
    "        \"\"\"\n",
    "        L = self.L\n",
    "        p = self.p\n",
    "        n_per_leaf = self.n_per_leaf\n",
    "        leftover_shape = data_quadtree_cheb.shape[2:]\n",
    "        leftover_idcs = 4 + jnp.arange(0, data_quadtree_cheb.ndim-2)\n",
    "\n",
    "        # 1. Reorder the leaf nodes to a more standard ordering (~block-wise row-major-order)\n",
    "        data_leaves_cheb = jnp.take(\n",
    "            data_quadtree_cheb,\n",
    "            self.quadtree_to_unrolled_idcs,\n",
    "            axis = 0,\n",
    "        )\n",
    "\n",
    "        # 2. Map values from Chebyshev to Uniform grids on the leaf-level\n",
    "        data_leaves_unif = jnp.einsum(\n",
    "            \"jl,il...->ij...\",\n",
    "            self.interp_leaf_cheb_to_unif,\n",
    "            data_leaves_cheb\n",
    "        )\n",
    "\n",
    "        # 3. Reshape leaf-level data into square matrices, then rearrange\n",
    "        data_unif = (\n",
    "            data_leaves_unif\n",
    "            .reshape(2**L, 2**L, n_per_leaf, n_per_leaf, *leftover_shape)\n",
    "            .transpose(0,3,1,2, *leftover_idcs)\n",
    "            .reshape(2**L * n_per_leaf, 2**L * n_per_leaf, *leftover_shape)\n",
    "\n",
    "            # I don't know why the outputs need to be transposed here...\n",
    "            .transpose(1,0, *(leftover_idcs-2))\n",
    "        )\n",
    "        return data_unif"
   ]
  },
  {
   "cell_type": "code",
   "execution_count": 5,
   "id": "0be07ee4-3cea-4898-a728-974db848ccd3",
   "metadata": {},
   "outputs": [],
   "source": [
    "# Uniform -> Quadtree (Chebyshev)\n",
    "class UniformToQuadtree:\n",
    "    \"\"\"Class to interpolate data from a contiguous uniform grid to\n",
    "    a quadtree form with chebyshev-grid leaves. Uses bicubic interpolation.\n",
    "    Simplifying assumptions:\n",
    "    1. Assume each leaf contains an integer number of points from the uniform grid,\n",
    "    and that these points are always in the same positions relative to the leaf boxes\n",
    "    2. Assume that the domain size does not change\n",
    "    For now, fix it at [-1, 1, -1, 1] for both input/output since the true scaling does\n",
    "    not really matter, other than if the domain were non-square.\n",
    "    \"\"\"\n",
    "    def __init__(self, L: int, p: int, n_per_leaf: int, cell_offset: float = 0):\n",
    "        \"\"\"Set up the reusable objects\n",
    "        Parameters:\n",
    "            L (int): number of levels in the tree\n",
    "            p (int): polynomial order of the leaf-level chebyshev grids \n",
    "            n_per_leaf (int): number of points in the uniform grid per leaf\n",
    "            cell_offset (float): relative offset of where to sample the uniform grid\n",
    "                If a leaf's chebyshev grid is sampled on the interval [-1, 1],\n",
    "                the cell_offset values correspond to the following behavior:\n",
    "                0:   default behavior, sample at    [0, 1, 2, ..., n_per_leaf-1]*2/n_per_leaf-1\n",
    "                0.5: cell-centered, sample at       [0.5, 1.5, 2.5, ..., n_per_leaf-0.5]*2/n_per_leaf-1\n",
    "                1:   sample on the opposite end, at [1, 2, ..., n_per_leaf]*2/n_per_leaf-1\n",
    "        \"\"\"\n",
    "        self.L = L\n",
    "        self.p = p\n",
    "        self.n_per_leaf = n_per_leaf\n",
    "        n = 2**L * n_per_leaf\n",
    "        self.n = n\n",
    "\n",
    "        # permutation maps for ordering leaves and chebyshev points within the leaves\n",
    "        self.quadtree_to_unrolled_idcs = prep_quadtree_to_unrolled_indices(L, new_order=(0,1,3,2))\n",
    "        self.unrolled_to_quadtree_idcs = jnp.argsort(self.quadtree_to_unrolled_idcs) # invert\n",
    "        self.rearrange_leaf_idcs       = rearrange_indices_ext_int_2D(p)\n",
    "        self.inv_rearrange_leaf_idcs   = jnp.argsort(self.rearrange_leaf_idcs) # invert\n",
    "\n",
    "        # leaf-level grids, for simplicity scaled on [-1, 1]\n",
    "        self.leaf_cheb_x = chebyshev_points(p)\n",
    "        self.leaf_cheb_y = chebyshev_points(p)[::-1]\n",
    "        leaf_offset = cell_offset * 0.5/n_per_leaf\n",
    "        self.leaf_unif_x = leaf_offset+jnp.linspace(-1, 1, n_per_leaf, endpoint=False)\n",
    "        self.leaf_unif_y = leaf_offset+jnp.linspace(-1, 1, n_per_leaf, endpoint=False) # [::-1]\n",
    "\n",
    "        # tree-level grids, also scaled on [-1, 1]\n",
    "        tree_offset = cell_offset * 0.5/n\n",
    "        self.tree_unif_x = tree_offset+jnp.linspace(-1, 1, n, endpoint=False)\n",
    "        self.tree_unif_y = tree_offset+jnp.linspace(-1, 1, n, endpoint=False)\n",
    "        leaf_to_tree = lambda xs: jnp.concatenate([\n",
    "            (xs+1) * (1/2**L) - 1 + (2*i/2**L)\n",
    "            for i in range(2**L)\n",
    "        ])\n",
    "        self.tree_cheb_x = leaf_to_tree(self.leaf_cheb_x)\n",
    "        self.tree_cheb_y = leaf_to_tree(self.leaf_cheb_y)\n",
    "\n",
    "        # product grids\n",
    "        product_grid = lambda xs, ys: jnp.array(jnp.meshgrid(xs, ys, indexing=\"ij\")).transpose(1,2,0).reshape(-1,2)\n",
    "        self.leaf_cheb_xy = product_grid(self.leaf_cheb_x, self.leaf_cheb_y)\n",
    "        self.leaf_unif_xy = product_grid(self.leaf_unif_x, self.leaf_unif_y)\n",
    "        self.tree_unif_xy = product_grid(self.tree_unif_x, self.tree_unif_y)\n",
    "        self.tree_cheb_xy = product_grid(self.tree_cheb_x, self.tree_cheb_y)\n",
    "\n",
    "        # Try to get the hps tree ordering\n",
    "        self.hps_tree_cheb_xy = (\n",
    "            self.tree_cheb_xy\n",
    "            .reshape(2**L, p, 2**L, p, 2)\n",
    "            .transpose(2, 0, 1, 3, 4)\n",
    "            .reshape(4**L, p**2, 2)\n",
    "            [self.unrolled_to_quadtree_idcs, :, :]\n",
    "            [:, self.rearrange_leaf_idcs, :]\n",
    "            .reshape(-1, 2)\n",
    "        )\n",
    "\n",
    "        # Interpolation operation, tree-wide\n",
    "        self.tree_unif_to_cheb_x, self.tree_unif_to_cheb_y = prep_conv_interp_2d(\n",
    "            tree_unif_x,\n",
    "            tree_unif_y,\n",
    "            # tree_domain.interior_points.reshape(-1,2),\n",
    "            # tree_cheb_xy,\n",
    "            self.hps_tree_cheb_xy,\n",
    "            # use a zero-valued boundary condition to mimic empty neighboring leaves\n",
    "            bc_modes=(\"zero\", \"zero\"),\n",
    "        )\n",
    "        # Should/can I move the interpolation operators to the GPU?\n",
    "\n",
    "    def apply(self, data_unif: jax.Array) -> jax.Array:\n",
    "        \"\"\"Take the data on the uniform grid, then map to the HPS quadtree format with leaf-level chebyshev grids\n",
    "        Assume data_unif has shape (N, N)\n",
    "        \"\"\"\n",
    "        L = self.L\n",
    "        p = self.p\n",
    "        n_per_leaf = self.n_per_leaf\n",
    "        N = 2**L * n_per_leaf\n",
    "        leftover_shape = data_unif.shape[2:]\n",
    "        leftover_idcs  = 4 + jnp.arange(0, data_unif.ndim-2)\n",
    "\n",
    "        data_tree_cheb = apply_interp_2d(\n",
    "            self.tree_unif_to_cheb_x,\n",
    "            self.tree_unif_to_cheb_y,\n",
    "            data_unif.reshape(N, N),\n",
    "        ).reshape(4**L, p**2)\n",
    "        return data_tree_cheb"
   ]
  },
  {
   "cell_type": "code",
   "execution_count": 6,
   "id": "9db9a098-815e-43ea-941d-d54095ee743e",
   "metadata": {},
   "outputs": [
    {
     "name": "stdout",
     "output_type": "stream",
     "text": [
      "L=2, N=64\n"
     ]
    }
   ],
   "source": [
    "q_fn_handle = lambda x: q_gaussian_bumps(0.75 * x)\n",
    "\n",
    "tree_n_per_leaf = 16\n",
    "tree_L = 2\n",
    "tree_p = 16\n",
    "tree_n = 2**tree_L * tree_n_per_leaf\n",
    "\n",
    "domain_bounds = jnp.array([-1., 1., -1., 1.])\n",
    "tree_root = DiscretizationNode2D(*domain_bounds)\n",
    "tree_domain = Domain(p=tree_p, q=tree_p-2, root=tree_root, L=tree_L)\n",
    "\n",
    "print(f\"L={tree_L}, N={tree_n}\")"
   ]
  },
  {
   "cell_type": "code",
   "execution_count": 7,
   "id": "b8fad7c4-d686-4e82-9f70-e6f03090fc7a",
   "metadata": {},
   "outputs": [],
   "source": [
    "leaf_cheb_x = chebyshev_points(tree_p)\n",
    "leaf_cheb_y = chebyshev_points(tree_p)[::-1]\n",
    "leaf_to_tree = lambda xs: jnp.concatenate([\n",
    "    (xs+1) * (1/2**tree_L) - 1 + (2*i/2**tree_L)\n",
    "    for i in range(2**tree_L)\n",
    "])\n",
    "tree_cheb_x = leaf_to_tree(leaf_cheb_x)\n",
    "tree_cheb_y = leaf_to_tree(leaf_cheb_y)\n",
    "\n",
    "cell_offset = 0 # 0.5 for centered\n",
    "leaf_unif_x = (cell_offset/tree_n_per_leaf)+jnp.linspace(-1, 1, tree_n_per_leaf, endpoint=False)\n",
    "leaf_unif_y = (cell_offset/tree_n_per_leaf)+jnp.linspace(-1, 1, tree_n_per_leaf, endpoint=False) # [::-1]\n",
    "tree_unif_x = (cell_offset/tree_n)+jnp.linspace(-1, 1, tree_n, endpoint=False)\n",
    "tree_unif_y = (cell_offset/tree_n)+jnp.linspace(-1, 1, tree_n, endpoint=False)\n",
    "\n",
    "product_grid = lambda xs, ys: jnp.array(jnp.meshgrid(xs, ys, indexing=\"ij\")).transpose(1,2,0).reshape(-1,2)\n",
    "leaf_cheb_xy = product_grid(leaf_cheb_x, leaf_cheb_y)\n",
    "leaf_unif_xy = product_grid(leaf_unif_x, leaf_unif_y)\n",
    "tree_unif_xy = product_grid(tree_unif_x, tree_unif_y)\n",
    "tree_cheb_xy = product_grid(tree_cheb_x, tree_cheb_y)"
   ]
  },
  {
   "cell_type": "code",
   "execution_count": 8,
   "id": "e7c67cec-0b20-455e-ab55-6394f4851e27",
   "metadata": {},
   "outputs": [
    {
     "name": "stdout",
     "output_type": "stream",
     "text": [
      "CPU times: user 2 μs, sys: 1e+03 ns, total: 3 μs\n",
      "Wall time: 5.25 μs\n"
     ]
    }
   ],
   "source": [
    "%time\n",
    "QtU = QuadtreeToUniform(tree_L, tree_p, tree_n_per_leaf, cell_offset=0)"
   ]
  },
  {
   "cell_type": "code",
   "execution_count": 9,
   "id": "0dc558e2-d5b0-4326-8713-63147e98e3a1",
   "metadata": {},
   "outputs": [
    {
     "name": "stdout",
     "output_type": "stream",
     "text": [
      "CPU times: user 2 μs, sys: 0 ns, total: 2 μs\n",
      "Wall time: 4.29 μs\n"
     ]
    }
   ],
   "source": [
    "%time\n",
    "UtQ = UniformToQuadtree(tree_L, tree_p, tree_n_per_leaf, cell_offset=0)"
   ]
  },
  {
   "cell_type": "markdown",
   "id": "03319c8b-50ab-41c9-916f-11bbfe1c2f36",
   "metadata": {},
   "source": [
    "## Verify uniform $\\leftrightarrow$ quadtree maps"
   ]
  },
  {
   "cell_type": "code",
   "execution_count": 10,
   "id": "77039fc1-14d0-4fb2-a824-a583d6fcef04",
   "metadata": {},
   "outputs": [],
   "source": [
    "# 0. Compute reference values\n",
    "ref_q_tree_unif = q_fn_handle(tree_unif_xy).reshape(4**tree_L, -1)\n",
    "ref_q_tree_cheb = q_fn_handle(tree_domain.interior_points).reshape(4**tree_L, -1)"
   ]
  },
  {
   "cell_type": "code",
   "execution_count": 11,
   "id": "63dcd8cc-ef92-4e49-bbff-4b35f1affc4c",
   "metadata": {},
   "outputs": [
    {
     "name": "stdout",
     "output_type": "stream",
     "text": [
      "Uniform->Quadtree relative error: 5.05186e-03\n"
     ]
    }
   ],
   "source": [
    "# 1. Uniform -> Quadtree\n",
    "q_tree_cheb_utq = UtQ.apply(ref_q_tree_unif)\n",
    "\n",
    "utq_err = jnp.linalg.norm(ref_q_tree_cheb-q_tree_cheb_utq) / jnp.linalg.norm(ref_q_tree_cheb)\n",
    "print(f\"Uniform->Quadtree relative error: {utq_err:.5e}\")"
   ]
  },
  {
   "cell_type": "code",
   "execution_count": 12,
   "id": "b0682f7d-9780-46e3-b17b-f3d9d7b67ed8",
   "metadata": {},
   "outputs": [
    {
     "name": "stdout",
     "output_type": "stream",
     "text": [
      "Quadtree (orig)->Uniform relative error: 2.89165e-08\n"
     ]
    }
   ],
   "source": [
    "# 2. Quadtree -> Uniform (on orig data)\n",
    "q_unif_qtu_orig = QtU.apply(ref_q_tree_cheb).reshape(4**tree_L, -1)\n",
    "\n",
    "qtu_orig_err = jnp.linalg.norm(ref_q_tree_unif-q_unif_qtu_orig) / jnp.linalg.norm(ref_q_tree_unif)\n",
    "print(f\"Quadtree (orig)->Uniform relative error: {qtu_orig_err:.5e}\")"
   ]
  },
  {
   "cell_type": "code",
   "execution_count": 13,
   "id": "9ab0ca57-30e8-450b-aca2-4320104e81e7",
   "metadata": {},
   "outputs": [
    {
     "name": "stdout",
     "output_type": "stream",
     "text": [
      "Quadtree (reco)->Uniform relative error: 1.29577e-03\n"
     ]
    }
   ],
   "source": [
    "# 3. Quadtree -> Uniform (on Quadtree to Uniform data)\n",
    "q_unif_qtu_reco = QtU.apply(q_tree_cheb_utq).reshape(4**tree_L, -1)\n",
    "\n",
    "qtu_reco_err = jnp.linalg.norm(ref_q_tree_unif-q_unif_qtu_reco) / jnp.linalg.norm(ref_q_tree_unif)\n",
    "print(f\"Quadtree (reco)->Uniform relative error: {qtu_reco_err:.5e}\")"
   ]
  },
  {
   "cell_type": "markdown",
   "id": "3cf5096a-3732-438f-abd9-2611270e9f77",
   "metadata": {},
   "source": [
    "## Main problem"
   ]
  },
  {
   "cell_type": "code",
   "execution_count": 42,
   "id": "48b391e0-e8d6-427b-93ca-6aa9f28b3423",
   "metadata": {},
   "outputs": [],
   "source": [
    "# Basic problem dimensions\n",
    "k_str = \"20\"\n",
    "k = float(k_str)\n",
    "\n",
    "L = 3\n",
    "p = 16 # chebyshev order\n",
    "pm2 = p-2 # gauss-legendre order\n",
    "n_per_leaf = 24\n",
    "nside = 2**L\n",
    "n = nside * n_per_leaf\n",
    "\n",
    "N_s = 192\n",
    "N_r = N_s\n",
    "source_dirs = jnp.linspace(0, 2*jnp.pi, N_s)\n",
    "\n",
    "q_fn = lambda x: q_gaussian_bumps(0.7*x)\n",
    "domain_bounds = jnp.array([-0.5, 0.5, -0.5, 0.5])\n",
    "main_root = DiscretizationNode2D(*domain_bounds)\n",
    "main_domain = Domain(p=p, q=p - 2, root=main_root, L=L)\n",
    "\n",
    "main_unif_x = jnp.linspace(domain_bounds[0], domain_bounds[1], n, endpoint=False)\n",
    "main_unif_y = jnp.linspace(domain_bounds[2], domain_bounds[3], n, endpoint=False)\n",
    "# product_grid = lambda xs, ys: jnp.array(jnp.meshgrid(xs, ys, indexing=\"ij\")).transpose(1,2,0).reshape(-1,2)\n",
    "main_unif_xy = product_grid(main_unif_x, main_unif_y)\n",
    "\n",
    "ref_main_q_cheb = q_fn(main_domain.interior_points)\n",
    "ref_main_q_unif = q_fn(main_unif_xy).reshape(4**L, n_per_leaf**2)"
   ]
  },
  {
   "cell_type": "code",
   "execution_count": 43,
   "id": "5ca7688f-8c9d-4592-9a81-326c5392945c",
   "metadata": {},
   "outputs": [
    {
     "name": "stdout",
     "output_type": "stream",
     "text": [
      "CPU times: user 4.97 s, sys: 72.2 ms, total: 5.05 s\n",
      "Wall time: 4.52 s\n"
     ]
    }
   ],
   "source": [
    "%%time\n",
    "main_QtU = QuadtreeToUniform(L, p, n_per_leaf, cell_offset=0)"
   ]
  },
  {
   "cell_type": "code",
   "execution_count": 44,
   "id": "b160010b-1fc2-44d7-909f-d0023242215c",
   "metadata": {},
   "outputs": [
    {
     "name": "stdout",
     "output_type": "stream",
     "text": [
      "CPU times: user 33 s, sys: 10.6 s, total: 43.6 s\n",
      "Wall time: 22.8 s\n"
     ]
    }
   ],
   "source": [
    "%%time\n",
    "main_UtQ = UniformToQuadtree(L, p, n_per_leaf, cell_offset=0) # slow to set up... maybe can do on the GPU?"
   ]
  },
  {
   "cell_type": "code",
   "execution_count": 45,
   "id": "a71663c9-86e8-4109-9bc8-1a26019f907a",
   "metadata": {},
   "outputs": [],
   "source": [
    "# Load S and D matrices for the boundary integral equation\n",
    "S_D_matrices_fp = os.path.join(\n",
    "    \"data/wave_scattering/SD_matrices\",\n",
    "    f\"SD_k{k_str}_n{pm2}_nside{nside}_dom1.mat\"\n",
    ")\n",
    "S_int, D_int = load_SD_matrices(S_D_matrices_fp)"
   ]
  },
  {
   "cell_type": "markdown",
   "id": "34238873-b51d-41a3-a361-6967d4e3d9b0",
   "metadata": {},
   "source": [
    "## Interior solver"
   ]
  },
  {
   "cell_type": "code",
   "execution_count": 46,
   "id": "d02d6d5e-9c25-429f-af20-5fd645be07df",
   "metadata": {},
   "outputs": [],
   "source": [
    "from typing import Tuple, Callable\n",
    "def notebook_solve_scattering_problem(\n",
    "    l: int,\n",
    "    p: int,\n",
    "    n: int,\n",
    "    k: float,\n",
    "    q_fn: Callable[[jnp.array], jnp.array],\n",
    "    domain_bounds: jnp.array,\n",
    "    source_dirs: jnp.array,\n",
    "    S: jax.Array,\n",
    "    D: jax.Array,\n",
    "    QtU: QuadtreeToUniform,\n",
    ") -> Tuple[jnp.array, jnp.array, float]:\n",
    "    \"\"\"\n",
    "    Does the following:\n",
    "\n",
    "    1. Sets up the HPS quadrature for l levels and polynomial order p.\n",
    "    2. Evaluates the coefficients and source term for the wave scattering problem.\n",
    "    3. Performs local solves and merges to get a top-level ItI operator.\n",
    "    4. Uses top-level ItI operator along with loaded S and D matrices to solve the exterior problem.\n",
    "    5. Propagates the resulting impedance data down to the leaves.\n",
    "    6. Interpolates the solution onto a regular grid with n points per dimension.\n",
    "\n",
    "\n",
    "    Args:\n",
    "        l (int): _description_\n",
    "        p (int): _description_\n",
    "        n (int): _description_\n",
    "        k (float): _description_\n",
    "        q_fn (Callable[[jnp.array], jnp.array]): _description_\n",
    "        domain_bounds (jnp.array): _description_\n",
    "        source_dirs (jnp.array): _description_\n",
    "        S (jax.Array): _description_\n",
    "        D (jax.Array): _description_\n",
    "\n",
    "    Returns:\n",
    "        Tuple[jnp.array, jnp.array, float]: _description_\n",
    "    \"\"\"\n",
    "\n",
    "    # These things are fast to precompute\n",
    "    \n",
    "    # Set up the HPS quadrature for l levels and polynomial order p\n",
    "    logging.info(\"solve_scattering_problem: Creating tree...\")\n",
    "    xmin, xmax, ymin, ymax = domain_bounds\n",
    "    root = DiscretizationNode2D(\n",
    "        xmin=float(xmin), xmax=float(xmax), ymin=float(ymin), ymax=float(ymax)\n",
    "    )\n",
    "\n",
    "    domain = Domain(p=p, q=p - 2, root=root, L=l)\n",
    "\n",
    "    # Evaluate the coefficients and source term for the wave scattering problem\n",
    "    d_xx_coeffs = jnp.ones_like(domain.interior_points[:, :, 0])\n",
    "    d_yy_coeffs = jnp.ones_like(domain.interior_points[:, :, 0])\n",
    "    i_term = k**2 * (1 + q_fn(domain.interior_points))\n",
    "    logging.debug(\"solve_scattering_problem: i_term shape: %s\", i_term.shape)\n",
    "\n",
    "    uin_evals = get_uin(k, domain.interior_points, source_dirs)\n",
    "\n",
    "    source_term = (\n",
    "        -1 * (k**2) * q_fn(domain.interior_points)[..., None] * uin_evals\n",
    "    )\n",
    "    logging.debug(\n",
    "        \"solve_scattering_problem: source_term shape: %s\", source_term.shape\n",
    "    )\n",
    "\n",
    "    logging.debug(\"solve_scattering_problem: S device: %s\", S.devices())\n",
    "\n",
    "    t = PDEProblem(\n",
    "        domain=domain,\n",
    "        D_xx_coefficients=d_xx_coeffs,\n",
    "        D_yy_coefficients=d_yy_coeffs,\n",
    "        I_coefficients=i_term,\n",
    "        source=source_term,\n",
    "        use_ItI=True,\n",
    "        eta=k,\n",
    "    )\n",
    "    logging.info(f\"Finished setting up the PDEProblem object; starting the timer\")\n",
    "    t_0 = default_timer()\n",
    "\n",
    "    # Determine whether we need to use fused functions or can fit everything on the\n",
    "    n_leaves = domain.n_leaves\n",
    "    chunksize = local_solve_chunksize_2D(p, jnp.complex128)\n",
    "\n",
    "    bool_use_recomp = chunksize < n_leaves\n",
    "\n",
    "    if bool_use_recomp:\n",
    "        T_ItI = upward_pass_subtree(\n",
    "            pde_problem=t,\n",
    "            subtree_height=6,\n",
    "            compute_device=jax.devices()[0],\n",
    "            host_device=jax.devices()[0],\n",
    "        )\n",
    "    else:\n",
    "        logging.info(f\"Starting local solve\")\n",
    "        Y_arr, T_arr, v_arr, h_arr = local_solve_stage_uniform_2D_ItI(\n",
    "            pde_problem=t,\n",
    "            host_device=jax.devices()[0],\n",
    "            device=jax.devices()[0],\n",
    "        )\n",
    "        logging.info(\"Finished local solve; starting merge stage\")\n",
    "        S_arr_lst, g_tilde_lst, T_ItI = merge_stage_uniform_2D_ItI(\n",
    "            T_arr=T_arr,\n",
    "            h_arr=h_arr,\n",
    "            l=domain.L,\n",
    "            device=jax.devices()[0],\n",
    "            host_device=jax.devices()[0],\n",
    "            return_T=True,\n",
    "        )\n",
    "        logging.info(f\"Finished merge stage\")\n",
    "\n",
    "    T_DtN = get_DtN_from_ItI(T_ItI, t.eta)\n",
    "    logging.info(f\"Got DtN from ItI\")\n",
    "\n",
    "    logging.info(\n",
    "        \"solve_scattering_problem: Solving boundary integral equation...\"\n",
    "    )\n",
    "\n",
    "    if jax.devices()[0] not in S.devices():\n",
    "        S = jax.device_put(S, jax.devices()[0])\n",
    "        D = jax.device_put(D, jax.devices()[0])\n",
    "        bool_delete_SD = True\n",
    "    else:\n",
    "        bool_delete_SD = False\n",
    "    incoming_imp_data = get_scattering_uscat_impedance(\n",
    "        S=S,\n",
    "        D=D,\n",
    "        T=T_DtN,\n",
    "        source_dirs=source_dirs,\n",
    "        bdry_pts=t.domain.boundary_points,\n",
    "        k=k,\n",
    "        eta=k,\n",
    "    )\n",
    "\n",
    "    logging.info(\"Finished calculating incoming impedance data\")\n",
    "\n",
    "    # Delete exterior matrices we no longer need\n",
    "    T_ItI.delete()\n",
    "    T_DtN.delete()\n",
    "    if bool_delete_SD:\n",
    "        S.delete()\n",
    "        D.delete()\n",
    "    logging.info(\"Deleted exterior matrices; starting to propagate the impedance data\")\n",
    "\n",
    "    # Propagate the resulting impedance data down to the leaves\n",
    "    if bool_use_recomp:\n",
    "        uscat_soln = downward_pass_subtree(\n",
    "            pde_problem=t,\n",
    "            boundary_data=incoming_imp_data,\n",
    "            subtree_height=6,\n",
    "            compute_device=jax.devices()[0],\n",
    "            host_device=jax.devices()[0],\n",
    "        )\n",
    "    else:\n",
    "        uscat_soln = down_pass_uniform_2D_ItI(\n",
    "            boundary_data=incoming_imp_data,\n",
    "            S_lst=S_arr_lst,\n",
    "            g_tilde_lst=g_tilde_lst,\n",
    "            Y_arr=Y_arr,\n",
    "            v_arr=v_arr,\n",
    "            device=jax.devices()[0],\n",
    "            host_device=jax.devices()[0],\n",
    "        )\n",
    "\n",
    "    # Interpolate the solution onto a regular grid using the object QtU prepared ahead of time\n",
    "    logging.info(\"Beginning interpolation\")\n",
    "    uscat_regular = QtU.apply(uscat_soln)\n",
    "    logging.info(\"Finished interpolation\")\n",
    "    uscat_regular.block_until_ready()\n",
    "\n",
    "    t_1 = default_timer() - t_0\n",
    "    return uscat_regular, t_1\n"
   ]
  },
  {
   "cell_type": "code",
   "execution_count": 47,
   "id": "22ce2173-0fff-480e-ada3-d39ecbec91d6",
   "metadata": {},
   "outputs": [
    {
     "name": "stderr",
     "output_type": "stream",
     "text": [
      "2025-06-26 14:17:07.660:jaxhps: INFO - solve_scattering_problem: Creating tree...\n",
      "2025-06-26 14:17:07.820:jaxhps: DEBUG - solve_scattering_problem: i_term shape: (64, 256)\n",
      "2025-06-26 14:17:07.822:jaxhps: DEBUG - solve_scattering_problem: source_term shape: (64, 256, 192)\n",
      "2025-06-26 14:17:07.822:jaxhps: DEBUG - solve_scattering_problem: S device: {CudaDevice(id=0)}\n",
      "2025-06-26 14:17:07.837:jaxhps: INFO - Finished setting up the PDEProblem object; starting the timer\n",
      "2025-06-26 14:17:07.838:jaxhps: INFO - Starting local solve\n",
      "2025-06-26 14:17:07.838:jaxhps: DEBUG - local_solve_stage_uniform_2D_ItI: started. device=cuda:0\n",
      "2025-06-26 14:17:07.839:jaxhps: DEBUG - local_solve_stage_uniform_2D_ItI: which_coeffs: [ True False  True False False  True]\n",
      "2025-06-26 14:17:07.845:jaxhps: INFO - Finished local solve; starting merge stage\n",
      "2025-06-26 14:17:07.846:jaxhps: DEBUG - merge_stage_uniform_2D_ItI: started. device=cuda:0\n",
      "2025-06-26 14:17:07.847:jaxhps: DEBUG - merge_stage_uniform_2D_ItI: T_arr.shape = (64, 56, 56)\n",
      "2025-06-26 14:17:07.957:jaxhps: INFO - Finished merge stage\n",
      "2025-06-26 14:17:07.959:jaxhps: INFO - Got DtN from ItI\n",
      "2025-06-26 14:17:07.960:jaxhps: INFO - solve_scattering_problem: Solving boundary integral equation...\n",
      "2025-06-26 14:17:07.962:jaxhps: INFO - Finished calculating incoming impedance data\n",
      "2025-06-26 14:17:07.962:jaxhps: INFO - Deleted exterior matrices; starting to propagate the impedance data\n",
      "2025-06-26 14:17:07.963:jaxhps: DEBUG - down_pass_uniform_2D_ItI: started. boundary_imp_data shape: (448, 192), len(g_tilde_lst): 3, len(S_lst): 3\n"
     ]
    },
    {
     "name": "stdout",
     "output_type": "stream",
     "text": [
      "Solve time: 0.316s\n",
      "CPU times: user 332 ms, sys: 28.1 ms, total: 360 ms\n",
      "Wall time: 495 ms\n"
     ]
    }
   ],
   "source": [
    " %%time\n",
    "uscat_quadtree, solve_time = notebook_solve_scattering_problem(\n",
    "    l=L,\n",
    "    p=p,\n",
    "    n=n,\n",
    "    k=k,\n",
    "    q_fn=q_fn_handle,\n",
    "    domain_bounds=domain_bounds,\n",
    "    source_dirs=source_dirs,\n",
    "    S=S_int,\n",
    "    D=D_int,\n",
    "    QtU=main_QtU,\n",
    ")\n",
    "print(f\"Solve time: {solve_time:.3f}s\")"
   ]
  },
  {
   "cell_type": "markdown",
   "id": "8423c168-a8e0-4d59-8862-e18b292e31ea",
   "metadata": {},
   "source": [
    "## Exterior solver"
   ]
  },
  {
   "cell_type": "code",
   "execution_count": 48,
   "id": "967f4cde-0628-44b1-b85a-ed694d0cd263",
   "metadata": {},
   "outputs": [],
   "source": [
    "from exterior_solver.utils.ScatteringProblem import ScatteringProblem\n",
    "from exterior_solver.utils.gen_SD_exterior import (\n",
    "    gen_D_exterior,\n",
    "    gen_S_exterior,\n",
    ")\n",
    "from exterior_solver.exterior_solver_for_Olivia import (\n",
    "    get_uscat_and_dn,\n",
    "    forward_model_exterior,\n",
    ")"
   ]
  },
  {
   "cell_type": "code",
   "execution_count": 49,
   "id": "c88f9ca6-275e-468d-ac2c-987654986168",
   "metadata": {},
   "outputs": [],
   "source": [
    "# Generate the exterior S, D matrices\n",
    "# N_r = 20\n",
    "R = 100\n",
    "\n",
    "S_ext = gen_S_exterior(domain=main_domain, k=k, nrec=N_r, rad=R)\n",
    "D_ext = gen_D_exterior(domain=main_domain, k=k, nrec=N_r, rad=R)"
   ]
  },
  {
   "cell_type": "code",
   "execution_count": 50,
   "id": "ed82539a-dd1d-414b-bd58-23d0fc0cd9bd",
   "metadata": {},
   "outputs": [
    {
     "name": "stdout",
     "output_type": "stream",
     "text": [
      "CPU times: user 12.6 ms, sys: 902 μs, total: 13.5 ms\n",
      "Wall time: 7.65 ms\n"
     ]
    }
   ],
   "source": [
    "%%time\n",
    "d_xx_evals = jnp.ones_like(main_domain.interior_points[..., 0])\n",
    "d_yy_evals = jnp.ones_like(main_domain.interior_points[..., 0])\n",
    "pde_problem = PDEProblem(\n",
    "    domain=main_domain,\n",
    "    D_xx_coefficients=d_xx_evals,\n",
    "    D_yy_coefficients=d_yy_evals,\n",
    "    eta=k,\n",
    "    use_ItI=True,\n",
    ")"
   ]
  },
  {
   "cell_type": "code",
   "execution_count": 51,
   "id": "966fba17-67df-49a6-a082-f0e206833695",
   "metadata": {},
   "outputs": [
    {
     "name": "stderr",
     "output_type": "stream",
     "text": [
      "2025-06-26 14:17:08.220:jaxhps: INFO - ScatteringProblem: cheby_weights_2D_rearranged shape: (1, 256)\n",
      "2025-06-26 14:17:08.220:jaxhps: INFO - ScatteringProblem: self.quad_weights_hps shape: (64, 256)\n",
      "2025-06-26 14:17:08.221:jaxhps: INFO - ScatteringProblem: self.pde_problem.domain.interior_points.shape: (64, 256, 2)\n"
     ]
    },
    {
     "name": "stdout",
     "output_type": "stream",
     "text": [
      "CPU times: user 4.03 ms, sys: 4.12 ms, total: 8.15 ms\n",
      "Wall time: 5.57 ms\n"
     ]
    }
   ],
   "source": [
    "%%time\n",
    "scat_problem = ScatteringProblem(\n",
    "    pde_problem=pde_problem,\n",
    "    S_int=S_int,\n",
    "    D_int=D_int,\n",
    "    S_ext=S_ext,\n",
    "    D_ext=D_ext,\n",
    "    target_points_reg=None,\n",
    "    source_dirs=source_dirs,\n",
    ")"
   ]
  },
  {
   "cell_type": "code",
   "execution_count": 52,
   "id": "a80934bc-1374-4622-963c-7432feac271b",
   "metadata": {},
   "outputs": [
    {
     "name": "stderr",
     "output_type": "stream",
     "text": [
      "2025-06-26 14:17:08.232:jaxhps: DEBUG - merge_stage_uniform_2D_ItI: T_arr.shape = (64, 56, 56)\n"
     ]
    },
    {
     "name": "stdout",
     "output_type": "stream",
     "text": [
      "CPU times: user 19.7 ms, sys: 1.17 ms, total: 20.9 ms\n",
      "Wall time: 73.4 ms\n"
     ]
    }
   ],
   "source": [
    "%%time\n",
    "uscat_at_sensors = forward_model_exterior(\n",
    "    scattering_problem=scat_problem, q=ref_main_q_cheb,\n",
    ")"
   ]
  },
  {
   "cell_type": "code",
   "execution_count": 53,
   "id": "db084d26-81e7-4a2e-b4ba-0aaf20abba54",
   "metadata": {},
   "outputs": [
    {
     "data": {
      "image/png": "[encoded data removed]",
      "text/plain": [
       "<Figure size 640x480 with 2 Axes>"
      ]
     },
     "metadata": {},
     "output_type": "display_data"
    }
   ],
   "source": [
    "plt.title(\"Far-field scattering pattern\")\n",
    "plt.imshow(jnp.real(uscat_at_sensors), cmap=\"bwr\")\n",
    "plt.colorbar()\n",
    "plt.show()"
   ]
  },
  {
   "cell_type": "markdown",
   "id": "c76e7c21-877b-4a85-ab12-3dfb3cc7a824",
   "metadata": {},
   "source": []
  },
  {
   "cell_type": "code",
   "execution_count": null,
   "id": "261b61ae-5155-4e19-854a-8371a9da4940",
   "metadata": {},
   "outputs": [],
   "source": []
  },
  {
   "cell_type": "code",
   "execution_count": null,
   "id": "b905310f-90e4-4fd8-b7d6-7f48a911cff0",
   "metadata": {},
   "outputs": [],
   "source": []
  }
 ],
 "metadata": {
  "kernelspec": {
   "display_name": "jaxhps-env",
   "language": "python",
   "name": "jaxhps-env"
  },
  "language_info": {
   "codemirror_mode": {
    "name": "ipython",
    "version": 3
   },
   "file_extension": ".py",
   "mimetype": "text/x-python",
   "name": "python",
   "nbconvert_exporter": "python",
   "pygments_lexer": "ipython3",
   "version": "3.10.8"
  }
 },
 "nbformat": 4,
 "nbformat_minor": 5
}
